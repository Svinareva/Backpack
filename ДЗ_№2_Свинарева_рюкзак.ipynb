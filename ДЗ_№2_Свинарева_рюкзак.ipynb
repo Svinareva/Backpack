{
  "nbformat": 4,
  "nbformat_minor": 0,
  "metadata": {
    "colab": {
      "provenance": []
    },
    "kernelspec": {
      "name": "python3",
      "display_name": "Python 3"
    },
    "language_info": {
      "name": "python"
    }
  },
  "cells": [
    {
      "cell_type": "markdown",
      "source": [
        "Решить задачу о рюкзаке методом динамического программирования: Есть рюкзак определенной вместимости и набор предметов с указанным весом и стоимостью. Ваша задача - выбрать оптимальный набор предметов для помещения в рюкзак так, чтобы суммарная стоимость была максимальной, а сумма весов предметов не превышала вместимость рюкзака\n",
        "\n",
        "Постороить матрицу, отражающей максимальную стоимость, которую можно достичь с данным весом и предметами. написать рекурсивную функцию для поиска оптимального решения."
      ],
      "metadata": {
        "id": "pB0KXT7Wqdi6"
      }
    },
    {
      "cell_type": "code",
      "source": [
        "def knapsack(weights, values, capacity):\n",
        "    n = len(values)\n",
        "\n",
        "    dp = [[0 for _ in range(capacity + 1)] for _ in range(n + 1)]\n",
        "\n",
        "    for i in range(1, n + 1):\n",
        "        for w in range(capacity + 1):\n",
        "            if weights[i - 1] <= w:\n",
        "\n",
        "                dp[i][w] = max(dp[i - 1][w], dp[i - 1][w - weights[i - 1]] + values[i - 1])\n",
        "            else:\n",
        "                dp[i][w] = dp[i - 1][w]\n",
        "\n",
        "    print(\"Матрица DP:\")\n",
        "    for row in dp:\n",
        "        print(row)\n",
        "\n",
        "    def find_items(i, w):\n",
        "        if i == 0 or w == 0:\n",
        "            return []\n",
        "        if dp[i][w] != dp[i - 1][w]:\n",
        "            return find_items(i - 1, w - weights[i - 1]) + [i - 1]\n",
        "        else:\n",
        "            return find_items(i - 1, w)\n",
        "\n",
        "    selected_items = find_items(n, capacity)\n",
        "\n",
        "    return dp[n][capacity], selected_items\n",
        "\n",
        "\n",
        "weights = [2, 3, 4, 5]\n",
        "values = [3, 4, 5, 6]\n",
        "capacity = 5\n",
        "\n",
        "max_value, selected_items = knapsack(weights, values, capacity)\n",
        "\n",
        "print(\"\\nМаксимальная стоимость:\", max_value)\n",
        "print(\"Выбранные предметы (индексы):\", selected_items)"
      ],
      "metadata": {
        "colab": {
          "base_uri": "https://localhost:8080/"
        },
        "id": "k-c7ONHIqfgK",
        "outputId": "07165458-4c3a-46ca-dddc-e7082f92fa80"
      },
      "execution_count": null,
      "outputs": [
        {
          "output_type": "stream",
          "name": "stdout",
          "text": [
            "Матрица DP:\n",
            "[0, 0, 0, 0, 0, 0]\n",
            "[0, 0, 3, 3, 3, 3]\n",
            "[0, 0, 3, 4, 4, 7]\n",
            "[0, 0, 3, 4, 5, 7]\n",
            "[0, 0, 3, 4, 5, 7]\n",
            "\n",
            "Максимальная стоимость: 7\n",
            "Выбранные предметы (индексы): [0, 1]\n"
          ]
        }
      ]
    }
  ]
}